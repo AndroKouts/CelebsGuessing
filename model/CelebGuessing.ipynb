{
 "cells": [
  {
   "cell_type": "code",
   "execution_count": 1,
   "id": "83d26c43-726c-475e-9d69-59d79ed552ff",
   "metadata": {},
   "outputs": [],
   "source": [
    "import numpy as np\n",
    "import cv2\n",
    "import matplotlib\n",
    "from matplotlib import pyplot as plt\n",
    "%matplotlib inline\n"
   ]
  },
  {
   "cell_type": "code",
   "execution_count": null,
   "id": "2868a993-f801-4382-9776-3fc44eb42724",
   "metadata": {},
   "outputs": [],
   "source": [
    "import os\n",
    "\n",
    "dataset_path = \"./dataset\"\n",
    "\n",
    "for celebrity_folder in os.listdir(dataset_path):\n",
    "    celeb_path = os.path.join(dataset_path, celebrity_folder)\n",
    "\n",
    "    if os.path.isdir(celeb_path):\n",
    "        counter = 1\n",
    "        celeb_name_clean = celebrity_folder.replace(\" \", \"_\").lower()\n",
    "\n",
    "        for entry in sorted(os.scandir(celeb_path), key=lambda e: e.name):\n",
    "            if entry.is_file() and entry.name.lower().endswith(\".jpg\"):\n",
    "                new_name = f\"{celeb_name_clean}{counter}.jpg\"\n",
    "                new_path = os.path.join(celeb_path, new_name)\n",
    "\n",
    "                try:\n",
    "                    os.rename(entry.path, new_path)\n",
    "                    counter += 1\n",
    "                except Exception as e:\n",
    "                    print(f\"❌ Fehler bei {entry.name}: {e}\")"
   ]
  },
  {
   "cell_type": "code",
   "execution_count": 2,
   "id": "9caf0d26-491f-4f3a-9e08-6d80aebd9c32",
   "metadata": {},
   "outputs": [
    {
     "data": {
      "text/plain": [
       "(275, 183, 3)"
      ]
     },
     "execution_count": 2,
     "metadata": {},
     "output_type": "execute_result"
    }
   ],
   "source": [
    "img = cv2.imread(\"./test images/chalamettest1.jpg\")\n",
    "img.shape"
   ]
  },
  {
   "cell_type": "code",
   "execution_count": null,
   "id": "e9c4d078-bc12-4e4f-8fb4-c84aadef74a9",
   "metadata": {},
   "outputs": [],
   "source": [
    "plt.imshow(img)\n",
    "plt.show()"
   ]
  },
  {
   "cell_type": "code",
   "execution_count": null,
   "id": "103abcf1-a55c-49bb-88a7-cc38d17a2f40",
   "metadata": {},
   "outputs": [],
   "source": [
    "gray = cv2.cvtColor(img, cv2.COLOR_BGR2GRAY)\n",
    "gray.shape"
   ]
  },
  {
   "cell_type": "code",
   "execution_count": null,
   "id": "832f19a1-b34f-430b-a25e-e404aeefd6cb",
   "metadata": {},
   "outputs": [],
   "source": [
    "gray\n"
   ]
  },
  {
   "cell_type": "code",
   "execution_count": null,
   "id": "3c63558b-c85d-420a-bb8b-70a926ced1b6",
   "metadata": {},
   "outputs": [],
   "source": [
    "plt.imshow(gray, cmap = \"gray\")\n",
    "plt.show()"
   ]
  },
  {
   "cell_type": "code",
   "execution_count": null,
   "id": "d39b392f-6d35-4203-979b-31a366011537",
   "metadata": {},
   "outputs": [],
   "source": [
    "face_cascade = cv2.CascadeClassifier(\"./haarcascades/haarcascade_frontalface_default.xml\")\n",
    "eye_cascade = cv2.CascadeClassifier(\"./haarcascades/haarcascade_eye.xml\")\n"
   ]
  },
  {
   "cell_type": "code",
   "execution_count": null,
   "id": "9124fc12-e7c8-413b-9bf3-b5f341d21bbb",
   "metadata": {},
   "outputs": [],
   "source": [
    "(x,y,w,h) = faces[0]\n",
    "x,y,w,h"
   ]
  },
  {
   "cell_type": "code",
   "execution_count": null,
   "id": "bda3ff85-be1b-4155-a59d-51912d96883d",
   "metadata": {},
   "outputs": [],
   "source": [
    "face_img = cv2.rectangle(img,(x,y),(x+w,y+h),(255,0,0),2)\n",
    "\n"
   ]
  },
  {
   "cell_type": "code",
   "execution_count": null,
   "id": "dd226c52-5340-47e0-b261-d84110eeac31",
   "metadata": {},
   "outputs": [],
   "source": [
    "cv2.destroyAllWindows()\n",
    "for (x, y, w, h) in faces:\n",
    "    face_img = cv2.rectangle(img, (x, y), (x + w, y + h), (255, 0, 0), 2)\n",
    "    roi_gray = gray[y:y + h, x:x + w]\n",
    "    roi_color = face_img[y:y + h, x:x + w]\n",
    "    eyes = eye_cascade.detectMultiScale(roi_gray)\n",
    "    for (ex, ey, ew, eh) in eyes:\n",
    "        cv2.rectangle(roi_color, (ex, ey), (ex + ew, ey + eh), (0, 255, 0), 2)\n",
    "\n",
    "plt.figure()\n",
    "plt.imshow(face_img, cmap='gray')\n",
    "plt.show()\n"
   ]
  },
  {
   "cell_type": "code",
   "execution_count": null,
   "id": "5eb22cdb-5db9-48f0-91d8-537f5dea492b",
   "metadata": {},
   "outputs": [],
   "source": [
    "import cv2\n",
    "import os\n",
    "\n",
    "def get_cropped_image_if_2_eyes(image_path):\n",
    "    image_path = os.path.normpath(image_path)\n",
    "\n",
    "    if not os.path.exists(image_path):\n",
    "        print(f\"Datei nicht gefunden: {image_path}\")\n",
    "        return None\n",
    "\n",
    "    img = cv2.imread(image_path)\n",
    "    if img is None:\n",
    "        print(f\"Konnte Bild nicht laden: {image_path}\")\n",
    "        return None\n",
    "\n",
    "    gray = cv2.cvtColor(img, cv2.COLOR_BGR2GRAY)\n",
    "    faces = face_cascade.detectMultiScale(gray, 1.3, 5)\n",
    "\n",
    "    for (x, y, w, h) in faces:\n",
    "        roi_color = img[y:y+h, x:x+w]\n",
    "        eyes = eye_cascade.detectMultiScale(roi_color)\n",
    "        if len(eyes) >= 2:\n",
    "            return roi_color\n",
    "    return None\n"
   ]
  },
  {
   "cell_type": "code",
   "execution_count": null,
   "id": "a469254f-e7d4-4af3-9def-691ba65b5acb",
   "metadata": {},
   "outputs": [],
   "source": [
    "img2 = cv2.imread(\"./test images/chalamettest1.jpg\")\n",
    "plt.imshow(img2)\n",
    "plt.show()"
   ]
  },
  {
   "cell_type": "code",
   "execution_count": null,
   "id": "5b155ab6-bd1e-4e16-b920-ed7ca251a580",
   "metadata": {},
   "outputs": [],
   "source": [
    "cropped_img2 = get_cropped_image_if_2_eyes(\"./test images/Tom Holland Talks The Crowded Room ....jpg\")\n",
    "cropped_img2"
   ]
  },
  {
   "cell_type": "code",
   "execution_count": null,
   "id": "efa0caca-f1b8-4bb5-afec-7027853b3c7b",
   "metadata": {},
   "outputs": [],
   "source": [
    "path_to_data = \"./dataset/\"\n",
    "path_to_cropped = \"./dataset/cropped/\""
   ]
  },
  {
   "cell_type": "code",
   "execution_count": null,
   "id": "2f19f20b-ebb1-4581-92f4-04800b944672",
   "metadata": {},
   "outputs": [],
   "source": [
    "import os\n",
    "\n",
    "img_dirs = []\n",
    "for entry in os.scandir(path_to_data):\n",
    "    if entry.is_dir():\n",
    "        img_dirs.append(entry.path)\n"
   ]
  },
  {
   "cell_type": "code",
   "execution_count": null,
   "id": "196ad54e-1f6a-48a8-a20e-cb0778a30b02",
   "metadata": {},
   "outputs": [],
   "source": [
    "img_dirs\n"
   ]
  },
  {
   "cell_type": "code",
   "execution_count": null,
   "id": "c7052b51-f1f0-459d-83f8-5328ec7e025e",
   "metadata": {},
   "outputs": [],
   "source": [
    "import shutil\n",
    "\n",
    "if os.path.exists(path_to_cropped):\n",
    "    shutil.rmtree(path_to_cropped)\n",
    "os.mkdir(path_to_cropped)"
   ]
  },
  {
   "cell_type": "code",
   "execution_count": null,
   "id": "4ed129f7-61d2-4200-8df5-40c36c5dd96a",
   "metadata": {},
   "outputs": [],
   "source": [
    "\n",
    "for img_dir in img_dirs:\n",
    "    celebrity_name = os.path.basename(img_dir)\n",
    "    print(\"Celebrity:\", celebrity_name)\n",
    "\n",
    "    for entry in os.scandir(img_dir):\n",
    "        if entry.is_file():\n",
    "            image_path = os.path.normpath(entry.path) \n",
    "            roi_color = get_cropped_image_if_2_eyes(image_path)\n",
    "\n",
    "            if roi_color is not None:\n",
    "                cropped_folder = os.path.join(path_to_cropped, celebrity_name)\n",
    "\n",
    "                if not os.path.exists(cropped_folder):\n",
    "                    os.makedirs(cropped_folder)\n",
    "                    print(\"Generating:\", cropped_folder)\n",
    "\n",
    "                cropped_file_name = os.path.join(\n",
    "                    cropped_folder, os.path.basename(image_path)\n",
    "                )\n",
    "                cv2.imwrite(cropped_file_name, roi_color)\n",
    "                "
   ]
  },
  {
   "cell_type": "code",
   "execution_count": null,
   "id": "f413f1e5-c802-4c8e-bd2e-8ae971140ab2",
   "metadata": {},
   "outputs": [],
   "source": [
    "\n",
    "path_to_cropped = \"./dataset/cropped\"\n",
    "celebrity_file_names_dict = {}\n",
    "\n",
    "for celebrity_folder in os.listdir(path_to_cropped):\n",
    "    celeb_path = os.path.join(path_to_cropped, celebrity_folder)\n",
    "\n",
    "    if os.path.isdir(celeb_path):\n",
    "        celeb_name = celebrity_folder.lower().replace(\" \", \"_\")\n",
    "        image_paths = []\n",
    "\n",
    "        for file in sorted(os.listdir(celeb_path)):\n",
    "            image_path = os.path.join(celeb_path, file)\n",
    "            image_paths.append(image_path)\n",
    "\n",
    "        celebrity_file_names_dict[celeb_name] = image_paths\n",
    "\n",
    "print(celebrity_file_names_dict)\n"
   ]
  },
  {
   "cell_type": "code",
   "execution_count": null,
   "id": "05597958-c36b-4415-8d51-ec0d835b31f3",
   "metadata": {},
   "outputs": [],
   "source": [
    "cr_img = cv2.imread(\"./dataset/cropped/timothee chalamet/timothee_chalamet6.jpg\")\n",
    "plt.imshow(cr_img)\n",
    "plt.show()"
   ]
  },
  {
   "cell_type": "code",
   "execution_count": null,
   "id": "a62839aa-64ef-4ed7-83a2-55b7fbbc4430",
   "metadata": {},
   "outputs": [],
   "source": [
    "import numpy as np\n",
    "import pywt\n",
    "import cv2\n",
    "\n",
    "def w2d(img, mode = \"haar\", level =1):\n",
    "    imArray = img\n",
    "\n",
    "    imArray = cv2.cvtColor(imArray, cv2.COLOR_RGB2GRAY )\n",
    "    imArray = np.float32(imArray)\n",
    "    imArray /= 255\n",
    "    \n",
    "    coeffs = pywt.wavedec2(imArray, mode, level = level) \n",
    "\n",
    "    coeffs_H = list(coeffs)\n",
    "    coeffs_H[0] *= 0\n",
    "\n",
    "    imArray_H = pywt.waverec2(coeffs_H, mode)\n",
    "    imArray_H *= 255;\n",
    "    imArray_H = np.uint8(imArray_H)\n",
    "\n",
    "    return imArray_H"
   ]
  },
  {
   "cell_type": "code",
   "execution_count": null,
   "id": "8db5d6dd-c53c-46c3-82f9-4c9156fefba2",
   "metadata": {},
   "outputs": [],
   "source": [
    "im_har = w2d(cr_img, \"db1\", 5)\n",
    "plt.imshow(im_har, cmap= \"gray\")\n",
    "plt.show()"
   ]
  },
  {
   "cell_type": "code",
   "execution_count": null,
   "id": "20907547-cb94-4b99-81b5-9c392e86ea01",
   "metadata": {},
   "outputs": [],
   "source": [
    "celebrity_file_names_dict\n"
   ]
  },
  {
   "cell_type": "code",
   "execution_count": null,
   "id": "f0361d4a-18eb-41d9-a86f-8ddd7534164b",
   "metadata": {},
   "outputs": [],
   "source": []
  }
 ],
 "metadata": {
  "kernelspec": {
   "display_name": "Python [conda env:base] *",
   "language": "python",
   "name": "conda-base-py"
  },
  "language_info": {
   "codemirror_mode": {
    "name": "ipython",
    "version": 3
   },
   "file_extension": ".py",
   "mimetype": "text/x-python",
   "name": "python",
   "nbconvert_exporter": "python",
   "pygments_lexer": "ipython3",
   "version": "3.13.5"
  }
 },
 "nbformat": 4,
 "nbformat_minor": 5
}
