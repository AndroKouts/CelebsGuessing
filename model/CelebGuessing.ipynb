{
 "cells": [
  {
   "cell_type": "code",
   "execution_count": 13,
   "id": "83d26c43-726c-475e-9d69-59d79ed552ff",
   "metadata": {},
   "outputs": [],
   "source": [
    "import numpy as np\n",
    "import cv2\n",
    "import matplotlib\n",
    "from matplotlib import pyplot as plt\n",
    "%matplotlib inline\n",
    "import os\n",
    "import pywt"
   ]
  },
  {
   "cell_type": "raw",
   "id": "93cbfef9-44de-420e-b47d-51af5960ae57",
   "metadata": {},
   "source": [
    "dataset_path = \"./dataset\"\n",
    "\n",
    "for celebrity_folder in os.listdir(dataset_path):\n",
    "    celeb_path = os.path.join(dataset_path, celebrity_folder)\n",
    "\n",
    "    if celebrity_folder.lower() == \"cropped\":\n",
    "        print(f\"Ignoring folder: {celebrity_folder}\")\n",
    "        continue\n",
    "\n",
    "    if os.path.isdir(celeb_path):\n",
    "        counter = 1\n",
    "        celeb_name_clean = celebrity_folder.replace(\" \", \"_\").lower()\n",
    "\n",
    "        for entry in sorted(os.scandir(celeb_path), key=lambda e: e.name):\n",
    "            if entry.is_file() and entry.name.lower().endswith(\".jpg\"):\n",
    "                new_name = f\"{celeb_name_clean}{counter}.jpg\"\n",
    "                new_path = os.path.join(celeb_path, new_name)\n",
    "\n",
    "                try:\n",
    "                    os.rename(entry.path, new_path)\n",
    "                    counter += 1\n",
    "                except Exception as e:\n",
    "                    print(f\"❌ Fehler bei {entry.name}: {e}\")\n"
   ]
  },
  {
   "cell_type": "code",
   "execution_count": 2,
   "id": "9caf0d26-491f-4f3a-9e08-6d80aebd9c32",
   "metadata": {},
   "outputs": [
    {
     "data": {
      "text/plain": [
       "(275, 183, 3)"
      ]
     },
     "execution_count": 2,
     "metadata": {},
     "output_type": "execute_result"
    }
   ],
   "source": [
    "img = cv2.imread(\"./test images/chalamettest1.jpg\")\n",
    "img.shape"
   ]
  },
  {
   "cell_type": "raw",
   "id": "944890db-7c6a-475e-8ac6-a4823d428e85",
   "metadata": {},
   "source": [
    "plt.imshow(img)\n",
    "plt.show()"
   ]
  },
  {
   "cell_type": "raw",
   "id": "ad0d2a84-e3e7-46c6-9d11-a91a91a2aa19",
   "metadata": {},
   "source": [
    "gray = cv2.cvtColor(img, cv2.COLOR_BGR2GRAY)\n",
    "gray.shape"
   ]
  },
  {
   "cell_type": "raw",
   "id": "f279af4c-539f-49f5-9a77-afd83cc259e8",
   "metadata": {},
   "source": [
    "gray\n"
   ]
  },
  {
   "cell_type": "raw",
   "id": "95634fb9-128f-4da2-92e9-4f86629aff51",
   "metadata": {},
   "source": [
    "plt.imshow(gray, cmap = \"gray\")\n",
    "plt.show()"
   ]
  },
  {
   "cell_type": "code",
   "execution_count": 10,
   "id": "d39b392f-6d35-4203-979b-31a366011537",
   "metadata": {},
   "outputs": [],
   "source": [
    "face_cascade = cv2.CascadeClassifier(\"./haarcascades/haarcascade_frontalface_default.xml\")\n",
    "eye_cascade = cv2.CascadeClassifier(\"./haarcascades/haarcascade_eye.xml\")\n"
   ]
  },
  {
   "cell_type": "raw",
   "id": "a78cf03b-517a-494a-945b-8c4fadd1871d",
   "metadata": {},
   "source": [
    "(x,y,w,h) = faces[0]\n",
    "x,y,w,h"
   ]
  },
  {
   "cell_type": "raw",
   "id": "1ef89c58-e64b-40cc-89e9-d48b8597b823",
   "metadata": {},
   "source": [
    "face_img = cv2.rectangle(img,(x,y),(x+w,y+h),(255,0,0),2)\n",
    "\n"
   ]
  },
  {
   "cell_type": "raw",
   "id": "4984ce4b-f7a4-4ea6-845a-cbec989d64d5",
   "metadata": {},
   "source": [
    "cv2.destroyAllWindows()\n",
    "for (x, y, w, h) in faces:\n",
    "    face_img = cv2.rectangle(img, (x, y), (x + w, y + h), (255, 0, 0), 2)\n",
    "    roi_gray = gray[y:y + h, x:x + w]\n",
    "    roi_color = face_img[y:y + h, x:x + w]\n",
    "    eyes = eye_cascade.detectMultiScale(roi_gray)\n",
    "    for (ex, ey, ew, eh) in eyes:\n",
    "        cv2.rectangle(roi_color, (ex, ey), (ex + ew, ey + eh), (0, 255, 0), 2)\n",
    "\n",
    "plt.figure()\n",
    "plt.imshow(face_img, cmap='gray')\n",
    "plt.show()\n"
   ]
  },
  {
   "cell_type": "code",
   "execution_count": 3,
   "id": "5eb22cdb-5db9-48f0-91d8-537f5dea492b",
   "metadata": {},
   "outputs": [],
   "source": [
    "def get_cropped_image_if_2_eyes(image_path):\n",
    "    image_path = os.path.normpath(image_path)\n",
    "\n",
    "    if not os.path.exists(image_path):\n",
    "        print(f\"Datei nicht gefunden: {image_path}\")\n",
    "        return None\n",
    "\n",
    "    img = cv2.imread(image_path)\n",
    "    if img is None:\n",
    "        print(f\"Konnte Bild nicht laden: {image_path}\")\n",
    "        return None\n",
    "\n",
    "    gray = cv2.cvtColor(img, cv2.COLOR_BGR2GRAY)\n",
    "    faces = face_cascade.detectMultiScale(gray, 1.3, 5)\n",
    "\n",
    "    for (x, y, w, h) in faces:\n",
    "        roi_color = img[y:y+h, x:x+w]\n",
    "        eyes = eye_cascade.detectMultiScale(roi_color)\n",
    "        if len(eyes) >= 2:\n",
    "            return roi_color\n",
    "    return None\n"
   ]
  },
  {
   "cell_type": "raw",
   "id": "4fd16fee-b6d5-4967-b7b7-17b57b4e91d1",
   "metadata": {},
   "source": [
    "img2 = cv2.imread(\"./test images/chalamettest1.jpg\")\n",
    "plt.imshow(img2)\n",
    "plt.show()"
   ]
  },
  {
   "cell_type": "raw",
   "id": "b004c6c8-05cf-4547-bdcd-970d095b9436",
   "metadata": {},
   "source": [
    "cropped_img2 = get_cropped_image_if_2_eyes(\"./test images/Tom Holland Talks The Crowded Room ....jpg\")\n",
    "cropped_img2"
   ]
  },
  {
   "cell_type": "raw",
   "id": "b75529b1-b551-4c2c-aa8a-95f76da227ac",
   "metadata": {},
   "source": [
    "path_to_data = \"./dataset/\"\n",
    "path_to_cropped = \"./dataset/cropped/\""
   ]
  },
  {
   "cell_type": "raw",
   "id": "28f829ae-c1d6-4b61-958b-7b3667b4d045",
   "metadata": {},
   "source": [
    "import os\n",
    "\n",
    "img_dirs = []\n",
    "for entry in os.scandir(path_to_data):\n",
    "    if entry.is_dir():\n",
    "        img_dirs.append(entry.path)\n"
   ]
  },
  {
   "cell_type": "raw",
   "id": "33f253f0-9f64-43d6-88bf-0286901ef621",
   "metadata": {},
   "source": [
    "img_dirs\n"
   ]
  },
  {
   "cell_type": "raw",
   "id": "a969c6cd-f1fd-4630-a2e9-52832c08b35e",
   "metadata": {},
   "source": [
    "import shutil\n",
    "\n",
    "if os.path.exists(path_to_cropped):\n",
    "    shutil.rmtree(path_to_cropped)\n",
    "os.mkdir(path_to_cropped)"
   ]
  },
  {
   "cell_type": "raw",
   "id": "79681e1b-cc79-4c04-8ba2-7c90f01a15a2",
   "metadata": {},
   "source": [
    "\n",
    "for img_dir in img_dirs:\n",
    "    celebrity_name = os.path.basename(img_dir)\n",
    "    print(\"Celebrity:\", celebrity_name)\n",
    "\n",
    "    for entry in os.scandir(img_dir):\n",
    "        if entry.is_file():\n",
    "            image_path = os.path.normpath(entry.path) \n",
    "            roi_color = get_cropped_image_if_2_eyes(image_path)\n",
    "\n",
    "            if roi_color is not None:\n",
    "                cropped_folder = os.path.join(path_to_cropped, celebrity_name)\n",
    "\n",
    "                if not os.path.exists(cropped_folder):\n",
    "                    os.makedirs(cropped_folder)\n",
    "                    print(\"Generating:\", cropped_folder)\n",
    "\n",
    "                cropped_file_name = os.path.join(\n",
    "                    cropped_folder, os.path.basename(image_path)\n",
    "                )\n",
    "                cv2.imwrite(cropped_file_name, roi_color)\n",
    "                "
   ]
  },
  {
   "cell_type": "code",
   "execution_count": 16,
   "id": "f413f1e5-c802-4c8e-bd2e-8ae971140ab2",
   "metadata": {},
   "outputs": [],
   "source": [
    "\n",
    "path_to_cropped = \"./dataset/cropped\"\n",
    "celebrity_file_names_dict = {}\n",
    "\n",
    "for celebrity_folder in os.listdir(path_to_cropped):\n",
    "    celeb_path = os.path.join(path_to_cropped, celebrity_folder)\n",
    "\n",
    "    if os.path.isdir(celeb_path):\n",
    "        celeb_name = celebrity_folder.lower().replace(\" \", \"_\")\n",
    "        image_paths = []\n",
    "\n",
    "        for file in sorted(os.listdir(celeb_path)):\n",
    "            image_path = os.path.join(celeb_path, file)\n",
    "            image_paths.append(image_path)\n",
    "\n",
    "        celebrity_file_names_dict[celeb_name] = image_paths\n",
    "\n"
   ]
  },
  {
   "cell_type": "raw",
   "id": "c7b5d53e-d689-4ca6-8be4-bf6ec6d860e5",
   "metadata": {},
   "source": [
    "cr_img = cv2.imread(\"./dataset/cropped/timothee chalamet/timothee_chalamet6.jpg\")\n",
    "plt.imshow(cr_img)\n",
    "plt.show()"
   ]
  },
  {
   "cell_type": "code",
   "execution_count": 17,
   "id": "a62839aa-64ef-4ed7-83a2-55b7fbbc4430",
   "metadata": {},
   "outputs": [],
   "source": [
    "\n",
    "def w2d(img, mode = \"haar\", level =1):\n",
    "    imArray = img\n",
    "\n",
    "    imArray = cv2.cvtColor(imArray, cv2.COLOR_RGB2GRAY )\n",
    "    imArray = np.float32(imArray)\n",
    "    imArray /= 255\n",
    "    \n",
    "    coeffs = pywt.wavedec2(imArray, mode, level = level) \n",
    "\n",
    "    coeffs_H = list(coeffs)\n",
    "    coeffs_H[0] *= 0\n",
    "\n",
    "    imArray_H = pywt.waverec2(coeffs_H, mode)\n",
    "    imArray_H *= 255;\n",
    "    imArray_H = np.uint8(imArray_H)\n",
    "\n",
    "    return imArray_H"
   ]
  },
  {
   "cell_type": "raw",
   "id": "f06a51dd-3500-4f08-8b56-4c4efa3a3c38",
   "metadata": {},
   "source": [
    "im_har = w2d(cr_img, \"db1\", 5)\n",
    "plt.imshow(im_har, cmap= \"gray\")\n",
    "plt.show()"
   ]
  },
  {
   "cell_type": "code",
   "execution_count": null,
   "id": "f0361d4a-18eb-41d9-a86f-8ddd7534164b",
   "metadata": {},
   "outputs": [],
   "source": []
  }
 ],
 "metadata": {
  "kernelspec": {
   "display_name": "Python [conda env:base] *",
   "language": "python",
   "name": "conda-base-py"
  },
  "language_info": {
   "codemirror_mode": {
    "name": "ipython",
    "version": 3
   },
   "file_extension": ".py",
   "mimetype": "text/x-python",
   "name": "python",
   "nbconvert_exporter": "python",
   "pygments_lexer": "ipython3",
   "version": "3.13.5"
  }
 },
 "nbformat": 4,
 "nbformat_minor": 5
}
