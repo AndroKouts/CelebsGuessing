{
 "cells": [
  {
   "cell_type": "code",
   "execution_count": 2,
   "id": "83d26c43-726c-475e-9d69-59d79ed552ff",
   "metadata": {},
   "outputs": [],
   "source": [
    "import numpy as np\n",
    "import cv2\n",
    "import matplotlib\n",
    "from matplotlib import pyplot as plt\n",
    "%matplotlib inline\n",
    "import os\n",
    "import pywt"
   ]
  },
  {
   "cell_type": "raw",
   "id": "93cbfef9-44de-420e-b47d-51af5960ae57",
   "metadata": {},
   "source": [
    "dataset_path = \"./dataset\"\n",
    "\n",
    "for celebrity_folder in os.listdir(dataset_path):\n",
    "    celeb_path = os.path.join(dataset_path, celebrity_folder)\n",
    "\n",
    "    if celebrity_folder.lower() == \"cropped\":\n",
    "        print(f\"Ignoring folder: {celebrity_folder}\")\n",
    "        continue\n",
    "\n",
    "    if os.path.isdir(celeb_path):\n",
    "        counter = 1\n",
    "        celeb_name_clean = celebrity_folder.replace(\" \", \"_\").lower()\n",
    "\n",
    "        for entry in sorted(os.scandir(celeb_path), key=lambda e: e.name):\n",
    "            if entry.is_file() and entry.name.lower().endswith(\".jpg\"):\n",
    "                new_name = f\"{celeb_name_clean}{counter}.jpg\"\n",
    "                new_path = os.path.join(celeb_path, new_name)\n",
    "\n",
    "                try:\n",
    "                    os.rename(entry.path, new_path)\n",
    "                    counter += 1\n",
    "                except Exception as e:\n",
    "                    print(f\"❌ Fehler bei {entry.name}: {e}\")\n"
   ]
  },
  {
   "cell_type": "code",
   "execution_count": 3,
   "id": "9caf0d26-491f-4f3a-9e08-6d80aebd9c32",
   "metadata": {},
   "outputs": [
    {
     "data": {
      "text/plain": [
       "(275, 183, 3)"
      ]
     },
     "execution_count": 3,
     "metadata": {},
     "output_type": "execute_result"
    }
   ],
   "source": [
    "img = cv2.imread(\"./test images/chalamettest1.jpg\")\n",
    "img.shape"
   ]
  },
  {
   "cell_type": "raw",
   "id": "944890db-7c6a-475e-8ac6-a4823d428e85",
   "metadata": {},
   "source": [
    "plt.imshow(img)\n",
    "plt.show()"
   ]
  },
  {
   "cell_type": "raw",
   "id": "ad0d2a84-e3e7-46c6-9d11-a91a91a2aa19",
   "metadata": {},
   "source": [
    "gray = cv2.cvtColor(img, cv2.COLOR_BGR2GRAY)\n",
    "gray.shape"
   ]
  },
  {
   "cell_type": "raw",
   "id": "f279af4c-539f-49f5-9a77-afd83cc259e8",
   "metadata": {},
   "source": [
    "gray\n"
   ]
  },
  {
   "cell_type": "raw",
   "id": "95634fb9-128f-4da2-92e9-4f86629aff51",
   "metadata": {},
   "source": [
    "plt.imshow(gray, cmap = \"gray\")\n",
    "plt.show()"
   ]
  },
  {
   "cell_type": "code",
   "execution_count": 4,
   "id": "d39b392f-6d35-4203-979b-31a366011537",
   "metadata": {},
   "outputs": [],
   "source": [
    "face_cascade = cv2.CascadeClassifier(\"./haarcascades/haarcascade_frontalface_default.xml\")\n",
    "eye_cascade = cv2.CascadeClassifier(\"./haarcascades/haarcascade_eye.xml\")\n"
   ]
  },
  {
   "cell_type": "raw",
   "id": "a78cf03b-517a-494a-945b-8c4fadd1871d",
   "metadata": {},
   "source": [
    "(x,y,w,h) = faces[0]\n",
    "x,y,w,h"
   ]
  },
  {
   "cell_type": "raw",
   "id": "1ef89c58-e64b-40cc-89e9-d48b8597b823",
   "metadata": {},
   "source": [
    "face_img = cv2.rectangle(img,(x,y),(x+w,y+h),(255,0,0),2)\n",
    "\n"
   ]
  },
  {
   "cell_type": "raw",
   "id": "4984ce4b-f7a4-4ea6-845a-cbec989d64d5",
   "metadata": {},
   "source": [
    "cv2.destroyAllWindows()\n",
    "for (x, y, w, h) in faces:\n",
    "    face_img = cv2.rectangle(img, (x, y), (x + w, y + h), (255, 0, 0), 2)\n",
    "    roi_gray = gray[y:y + h, x:x + w]\n",
    "    roi_color = face_img[y:y + h, x:x + w]\n",
    "    eyes = eye_cascade.detectMultiScale(roi_gray)\n",
    "    for (ex, ey, ew, eh) in eyes:\n",
    "        cv2.rectangle(roi_color, (ex, ey), (ex + ew, ey + eh), (0, 255, 0), 2)\n",
    "\n",
    "plt.figure()\n",
    "plt.imshow(face_img, cmap='gray')\n",
    "plt.show()\n"
   ]
  },
  {
   "cell_type": "code",
   "execution_count": 5,
   "id": "5eb22cdb-5db9-48f0-91d8-537f5dea492b",
   "metadata": {},
   "outputs": [],
   "source": [
    "def get_cropped_image_if_2_eyes(image_path):\n",
    "    image_path = os.path.normpath(image_path)\n",
    "\n",
    "    if not os.path.exists(image_path):\n",
    "        print(f\"Datei nicht gefunden: {image_path}\")\n",
    "        return None\n",
    "\n",
    "    img = cv2.imread(image_path)\n",
    "    if img is None:\n",
    "        print(f\"Konnte Bild nicht laden: {image_path}\")\n",
    "        return None\n",
    "\n",
    "    gray = cv2.cvtColor(img, cv2.COLOR_BGR2GRAY)\n",
    "    faces = face_cascade.detectMultiScale(gray, 1.3, 5)\n",
    "\n",
    "    for (x, y, w, h) in faces:\n",
    "        roi_color = img[y:y+h, x:x+w]\n",
    "        eyes = eye_cascade.detectMultiScale(roi_color)\n",
    "        if len(eyes) >= 2:\n",
    "            return roi_color\n",
    "    return None\n"
   ]
  },
  {
   "cell_type": "raw",
   "id": "4fd16fee-b6d5-4967-b7b7-17b57b4e91d1",
   "metadata": {},
   "source": [
    "img2 = cv2.imread(\"./test images/chalamettest1.jpg\")\n",
    "plt.imshow(img2)\n",
    "plt.show()"
   ]
  },
  {
   "cell_type": "raw",
   "id": "b004c6c8-05cf-4547-bdcd-970d095b9436",
   "metadata": {},
   "source": [
    "cropped_img2 = get_cropped_image_if_2_eyes(\"./test images/Tom Holland Talks The Crowded Room ....jpg\")\n",
    "cropped_img2"
   ]
  },
  {
   "cell_type": "raw",
   "id": "b75529b1-b551-4c2c-aa8a-95f76da227ac",
   "metadata": {},
   "source": [
    "path_to_data = \"./dataset/\"\n",
    "path_to_cropped = \"./dataset/cropped/\""
   ]
  },
  {
   "cell_type": "raw",
   "id": "28f829ae-c1d6-4b61-958b-7b3667b4d045",
   "metadata": {},
   "source": [
    "import os\n",
    "\n",
    "img_dirs = []\n",
    "for entry in os.scandir(path_to_data):\n",
    "    if entry.is_dir():\n",
    "        img_dirs.append(entry.path)\n"
   ]
  },
  {
   "cell_type": "raw",
   "id": "33f253f0-9f64-43d6-88bf-0286901ef621",
   "metadata": {},
   "source": [
    "img_dirs\n"
   ]
  },
  {
   "cell_type": "raw",
   "id": "a969c6cd-f1fd-4630-a2e9-52832c08b35e",
   "metadata": {},
   "source": [
    "import shutil\n",
    "\n",
    "if os.path.exists(path_to_cropped):\n",
    "    shutil.rmtree(path_to_cropped)\n",
    "os.mkdir(path_to_cropped)"
   ]
  },
  {
   "cell_type": "raw",
   "id": "79681e1b-cc79-4c04-8ba2-7c90f01a15a2",
   "metadata": {},
   "source": [
    "\n",
    "for img_dir in img_dirs:\n",
    "    celebrity_name = os.path.basename(img_dir)\n",
    "    print(\"Celebrity:\", celebrity_name)\n",
    "\n",
    "    for entry in os.scandir(img_dir):\n",
    "        if entry.is_file():\n",
    "            image_path = os.path.normpath(entry.path) \n",
    "            roi_color = get_cropped_image_if_2_eyes(image_path)\n",
    "\n",
    "            if roi_color is not None:\n",
    "                cropped_folder = os.path.join(path_to_cropped, celebrity_name)\n",
    "\n",
    "                if not os.path.exists(cropped_folder):\n",
    "                    os.makedirs(cropped_folder)\n",
    "                    print(\"Generating:\", cropped_folder)\n",
    "\n",
    "                cropped_file_name = os.path.join(\n",
    "                    cropped_folder, os.path.basename(image_path)\n",
    "                )\n",
    "                cv2.imwrite(cropped_file_name, roi_color)\n",
    "                "
   ]
  },
  {
   "cell_type": "code",
   "execution_count": 6,
   "id": "f413f1e5-c802-4c8e-bd2e-8ae971140ab2",
   "metadata": {},
   "outputs": [],
   "source": [
    "\n",
    "path_to_cropped = \"./dataset/cropped\"\n",
    "celebrity_file_names_dict = {}\n",
    "\n",
    "for celebrity_folder in os.listdir(path_to_cropped):\n",
    "    celeb_path = os.path.join(path_to_cropped, celebrity_folder)\n",
    "\n",
    "    if os.path.isdir(celeb_path):\n",
    "        celeb_name = celebrity_folder.lower().replace(\" \", \"_\")\n",
    "        image_paths = []\n",
    "\n",
    "        for file in sorted(os.listdir(celeb_path)):\n",
    "            image_path = os.path.join(celeb_path, file)\n",
    "            image_paths.append(image_path)\n",
    "\n",
    "        celebrity_file_names_dict[celeb_name] = image_paths\n",
    "\n"
   ]
  },
  {
   "cell_type": "raw",
   "id": "c7b5d53e-d689-4ca6-8be4-bf6ec6d860e5",
   "metadata": {},
   "source": [
    "cr_img = cv2.imread(\"./dataset/cropped/timothee chalamet/timothee_chalamet6.jpg\")\n",
    "plt.imshow(cr_img)\n",
    "plt.show()"
   ]
  },
  {
   "cell_type": "code",
   "execution_count": 7,
   "id": "a62839aa-64ef-4ed7-83a2-55b7fbbc4430",
   "metadata": {},
   "outputs": [],
   "source": [
    "\n",
    "def w2d(img, mode = \"haar\", level =1):\n",
    "    imArray = img\n",
    "\n",
    "    imArray = cv2.cvtColor(imArray, cv2.COLOR_RGB2GRAY )\n",
    "    imArray = np.float32(imArray)\n",
    "    imArray /= 255\n",
    "    \n",
    "    coeffs = pywt.wavedec2(imArray, mode, level = level) \n",
    "\n",
    "    coeffs_H = list(coeffs)\n",
    "    coeffs_H[0] *= 0\n",
    "\n",
    "    imArray_H = pywt.waverec2(coeffs_H, mode)\n",
    "    imArray_H *= 255;\n",
    "    imArray_H = np.uint8(imArray_H)\n",
    "\n",
    "    return imArray_H"
   ]
  },
  {
   "cell_type": "raw",
   "id": "f06a51dd-3500-4f08-8b56-4c4efa3a3c38",
   "metadata": {},
   "source": [
    "im_har = w2d(cr_img, \"db1\", 5)\n",
    "plt.imshow(im_har, cmap= \"gray\")\n",
    "plt.show()"
   ]
  },
  {
   "cell_type": "code",
   "execution_count": 8,
   "id": "f0361d4a-18eb-41d9-a86f-8ddd7534164b",
   "metadata": {},
   "outputs": [
    {
     "data": {
      "text/plain": [
       "{'millie_bobby_brown': 0,\n",
       " 'timothee_chalamet': 1,\n",
       " 'tom_holland': 2,\n",
       " 'will_smith': 3,\n",
       " 'zendaya': 4}"
      ]
     },
     "execution_count": 8,
     "metadata": {},
     "output_type": "execute_result"
    }
   ],
   "source": [
    "class_dict = {}\n",
    "count = 0\n",
    "\n",
    "for celebrity_name in celebrity_file_names_dict.keys():\n",
    "    class_dict[celebrity_name] = count\n",
    "    count += 1\n",
    "\n",
    "class_dict\n"
   ]
  },
  {
   "cell_type": "code",
   "execution_count": 9,
   "id": "efb620c3-801f-4d23-8859-5ba032cfeed0",
   "metadata": {},
   "outputs": [],
   "source": [
    "X = []\n",
    "y = []\n",
    "\n",
    "for celebrity_name, training_files in celebrity_file_names_dict.items():\n",
    "    for training_image in training_files:\n",
    "        img = cv2.imread(training_image)\n",
    "        if img is None:\n",
    "            continue\n",
    "        scaled_raw_img = cv2.resize(img, (32, 32))\n",
    "        img_har = w2d(img, 'db1', 5) \n",
    "        scaled_img_har = cv2.resize(img_har, (32, 32))\n",
    "        combined_img = np.vstack((\n",
    "            scaled_raw_img.reshape(32*32*3, 1),\n",
    "            scaled_img_har.reshape(32*32, 1)\n",
    "        ))\n",
    "\n",
    "        X.append(combined_img)\n",
    "        y.append(class_dict[celebrity_name])\n"
   ]
  },
  {
   "cell_type": "code",
   "execution_count": 10,
   "id": "fa8288d0-0fa8-48a9-ad94-96a1d53d3ff2",
   "metadata": {},
   "outputs": [
    {
     "data": {
      "text/plain": [
       "(187, 4096)"
      ]
     },
     "execution_count": 10,
     "metadata": {},
     "output_type": "execute_result"
    }
   ],
   "source": [
    "X = np.array(X).reshape(len(X),4096).astype(float)\n",
    "X.shape"
   ]
  },
  {
   "cell_type": "code",
   "execution_count": 11,
   "id": "829e553e-8816-4029-a7c2-386701690f16",
   "metadata": {},
   "outputs": [],
   "source": [
    "from sklearn.svm import SVC\n",
    "from sklearn.preprocessing import StandardScaler\n",
    "from sklearn.model_selection import train_test_split\n",
    "from sklearn.pipeline import Pipeline\n",
    "from sklearn.metrics import classification_report\n"
   ]
  },
  {
   "cell_type": "code",
   "execution_count": 12,
   "id": "1703e481-b537-4c0b-9f2b-a876829aefff",
   "metadata": {},
   "outputs": [
    {
     "data": {
      "text/plain": [
       "0.723404255319149"
      ]
     },
     "execution_count": 12,
     "metadata": {},
     "output_type": "execute_result"
    }
   ],
   "source": [
    "X_train, X_test, y_train, y_test = train_test_split(X, y, random_state=0)\n",
    "\n",
    "pipe = Pipeline([('scaler', StandardScaler()), ('svc', SVC(kernel='rbf', C=10))])\n",
    "pipe.fit(X_train, y_train)\n",
    "pipe.score(X_test, y_test)\n"
   ]
  },
  {
   "cell_type": "code",
   "execution_count": 13,
   "id": "f9488441-7c2b-4ed7-803c-afa5fd7a39e4",
   "metadata": {},
   "outputs": [
    {
     "data": {
      "text/plain": [
       "47"
      ]
     },
     "execution_count": 13,
     "metadata": {},
     "output_type": "execute_result"
    }
   ],
   "source": [
    "len(X_test)"
   ]
  },
  {
   "cell_type": "code",
   "execution_count": 15,
   "id": "bd34145a-f831-4851-97ee-4d6a2048efeb",
   "metadata": {},
   "outputs": [
    {
     "name": "stdout",
     "output_type": "stream",
     "text": [
      "              precision    recall  f1-score   support\n",
      "\n",
      "           0       0.62      0.80      0.70        10\n",
      "           1       1.00      0.50      0.67         8\n",
      "           2       0.57      0.67      0.62         6\n",
      "           3       0.88      0.64      0.74        11\n",
      "           4       0.73      0.92      0.81        12\n",
      "\n",
      "    accuracy                           0.72        47\n",
      "   macro avg       0.76      0.70      0.71        47\n",
      "weighted avg       0.77      0.72      0.72        47\n",
      "\n"
     ]
    }
   ],
   "source": [
    "print(classification_report(y_test, pipe.predict(X_test)))"
   ]
  },
  {
   "cell_type": "code",
   "execution_count": 16,
   "id": "d6e4d48d-4844-4cd7-bddb-1d98b77bc4bc",
   "metadata": {},
   "outputs": [],
   "source": [
    "from sklearn import svm\n",
    "from sklearn.ensemble import RandomForestClassifier\n",
    "from sklearn.linear_model import LogisticRegression\n",
    "from sklearn.pipeline import make_pipeline\n",
    "from sklearn.model_selection import GridSearchCV\n"
   ]
  },
  {
   "cell_type": "code",
   "execution_count": 17,
   "id": "761e66b5-08db-4c37-b8ae-99dbff14256a",
   "metadata": {},
   "outputs": [],
   "source": [
    "model_params = {\n",
    "    'svm': {\n",
    "        'model': svm.SVC(gamma='auto', probability=True),\n",
    "        'params': {\n",
    "            'svc__C': [1, 10, 100, 1000],\n",
    "            'svc__kernel': ['rbf', 'linear']\n",
    "        }\n",
    "    },\n",
    "    'random_forest': {\n",
    "        'model': RandomForestClassifier(),\n",
    "        'params': {\n",
    "            'randomforestclassifier__n_estimators': [1, 5, 10]\n",
    "        }\n",
    "    },\n",
    "    'logistic_regression': {\n",
    "        'model': LogisticRegression(solver='liblinear', multi_class='auto'),\n",
    "        'params': {\n",
    "            'logisticregression__C': [1, 5, 10]\n",
    "        }\n",
    "    }\n",
    "}\n"
   ]
  },
  {
   "cell_type": "code",
   "execution_count": 18,
   "id": "974c8ffc-1da2-4e84-a26d-c533d339bc19",
   "metadata": {},
   "outputs": [
    {
     "name": "stderr",
     "output_type": "stream",
     "text": [
      "C:\\Users\\andro\\anaconda3\\Lib\\site-packages\\sklearn\\linear_model\\_logistic.py:1247: FutureWarning: 'multi_class' was deprecated in version 1.5 and will be removed in 1.7. From then on, it will always use 'multinomial'. Leave it to its default value to avoid this warning.\n",
      "  warnings.warn(\n",
      "C:\\Users\\andro\\anaconda3\\Lib\\site-packages\\sklearn\\linear_model\\_logistic.py:1247: FutureWarning: 'multi_class' was deprecated in version 1.5 and will be removed in 1.7. From then on, it will always use 'multinomial'. Leave it to its default value to avoid this warning.\n",
      "  warnings.warn(\n",
      "C:\\Users\\andro\\anaconda3\\Lib\\site-packages\\sklearn\\linear_model\\_logistic.py:1247: FutureWarning: 'multi_class' was deprecated in version 1.5 and will be removed in 1.7. From then on, it will always use 'multinomial'. Leave it to its default value to avoid this warning.\n",
      "  warnings.warn(\n",
      "C:\\Users\\andro\\anaconda3\\Lib\\site-packages\\sklearn\\linear_model\\_logistic.py:1247: FutureWarning: 'multi_class' was deprecated in version 1.5 and will be removed in 1.7. From then on, it will always use 'multinomial'. Leave it to its default value to avoid this warning.\n",
      "  warnings.warn(\n",
      "C:\\Users\\andro\\anaconda3\\Lib\\site-packages\\sklearn\\linear_model\\_logistic.py:1247: FutureWarning: 'multi_class' was deprecated in version 1.5 and will be removed in 1.7. From then on, it will always use 'multinomial'. Leave it to its default value to avoid this warning.\n",
      "  warnings.warn(\n",
      "C:\\Users\\andro\\anaconda3\\Lib\\site-packages\\sklearn\\linear_model\\_logistic.py:1247: FutureWarning: 'multi_class' was deprecated in version 1.5 and will be removed in 1.7. From then on, it will always use 'multinomial'. Leave it to its default value to avoid this warning.\n",
      "  warnings.warn(\n",
      "C:\\Users\\andro\\anaconda3\\Lib\\site-packages\\sklearn\\linear_model\\_logistic.py:1247: FutureWarning: 'multi_class' was deprecated in version 1.5 and will be removed in 1.7. From then on, it will always use 'multinomial'. Leave it to its default value to avoid this warning.\n",
      "  warnings.warn(\n",
      "C:\\Users\\andro\\anaconda3\\Lib\\site-packages\\sklearn\\linear_model\\_logistic.py:1247: FutureWarning: 'multi_class' was deprecated in version 1.5 and will be removed in 1.7. From then on, it will always use 'multinomial'. Leave it to its default value to avoid this warning.\n",
      "  warnings.warn(\n",
      "C:\\Users\\andro\\anaconda3\\Lib\\site-packages\\sklearn\\linear_model\\_logistic.py:1247: FutureWarning: 'multi_class' was deprecated in version 1.5 and will be removed in 1.7. From then on, it will always use 'multinomial'. Leave it to its default value to avoid this warning.\n",
      "  warnings.warn(\n",
      "C:\\Users\\andro\\anaconda3\\Lib\\site-packages\\sklearn\\linear_model\\_logistic.py:1247: FutureWarning: 'multi_class' was deprecated in version 1.5 and will be removed in 1.7. From then on, it will always use 'multinomial'. Leave it to its default value to avoid this warning.\n",
      "  warnings.warn(\n",
      "C:\\Users\\andro\\anaconda3\\Lib\\site-packages\\sklearn\\linear_model\\_logistic.py:1247: FutureWarning: 'multi_class' was deprecated in version 1.5 and will be removed in 1.7. From then on, it will always use 'multinomial'. Leave it to its default value to avoid this warning.\n",
      "  warnings.warn(\n",
      "C:\\Users\\andro\\anaconda3\\Lib\\site-packages\\sklearn\\linear_model\\_logistic.py:1247: FutureWarning: 'multi_class' was deprecated in version 1.5 and will be removed in 1.7. From then on, it will always use 'multinomial'. Leave it to its default value to avoid this warning.\n",
      "  warnings.warn(\n",
      "C:\\Users\\andro\\anaconda3\\Lib\\site-packages\\sklearn\\linear_model\\_logistic.py:1247: FutureWarning: 'multi_class' was deprecated in version 1.5 and will be removed in 1.7. From then on, it will always use 'multinomial'. Leave it to its default value to avoid this warning.\n",
      "  warnings.warn(\n",
      "C:\\Users\\andro\\anaconda3\\Lib\\site-packages\\sklearn\\linear_model\\_logistic.py:1247: FutureWarning: 'multi_class' was deprecated in version 1.5 and will be removed in 1.7. From then on, it will always use 'multinomial'. Leave it to its default value to avoid this warning.\n",
      "  warnings.warn(\n",
      "C:\\Users\\andro\\anaconda3\\Lib\\site-packages\\sklearn\\linear_model\\_logistic.py:1247: FutureWarning: 'multi_class' was deprecated in version 1.5 and will be removed in 1.7. From then on, it will always use 'multinomial'. Leave it to its default value to avoid this warning.\n",
      "  warnings.warn(\n",
      "C:\\Users\\andro\\anaconda3\\Lib\\site-packages\\sklearn\\linear_model\\_logistic.py:1247: FutureWarning: 'multi_class' was deprecated in version 1.5 and will be removed in 1.7. From then on, it will always use 'multinomial'. Leave it to its default value to avoid this warning.\n",
      "  warnings.warn(\n"
     ]
    },
    {
     "data": {
      "text/html": [
       "<div>\n",
       "<style scoped>\n",
       "    .dataframe tbody tr th:only-of-type {\n",
       "        vertical-align: middle;\n",
       "    }\n",
       "\n",
       "    .dataframe tbody tr th {\n",
       "        vertical-align: top;\n",
       "    }\n",
       "\n",
       "    .dataframe thead th {\n",
       "        text-align: right;\n",
       "    }\n",
       "</style>\n",
       "<table border=\"1\" class=\"dataframe\">\n",
       "  <thead>\n",
       "    <tr style=\"text-align: right;\">\n",
       "      <th></th>\n",
       "      <th>model</th>\n",
       "      <th>best_score</th>\n",
       "      <th>best_params</th>\n",
       "    </tr>\n",
       "  </thead>\n",
       "  <tbody>\n",
       "    <tr>\n",
       "      <th>0</th>\n",
       "      <td>svm</td>\n",
       "      <td>0.742857</td>\n",
       "      <td>{'svc__C': 1, 'svc__kernel': 'linear'}</td>\n",
       "    </tr>\n",
       "    <tr>\n",
       "      <th>1</th>\n",
       "      <td>random_forest</td>\n",
       "      <td>0.514286</td>\n",
       "      <td>{'randomforestclassifier__n_estimators': 10}</td>\n",
       "    </tr>\n",
       "    <tr>\n",
       "      <th>2</th>\n",
       "      <td>logistic_regression</td>\n",
       "      <td>0.735714</td>\n",
       "      <td>{'logisticregression__C': 1}</td>\n",
       "    </tr>\n",
       "  </tbody>\n",
       "</table>\n",
       "</div>"
      ],
      "text/plain": [
       "                 model  best_score  \\\n",
       "0                  svm    0.742857   \n",
       "1        random_forest    0.514286   \n",
       "2  logistic_regression    0.735714   \n",
       "\n",
       "                                    best_params  \n",
       "0        {'svc__C': 1, 'svc__kernel': 'linear'}  \n",
       "1  {'randomforestclassifier__n_estimators': 10}  \n",
       "2                  {'logisticregression__C': 1}  "
      ]
     },
     "execution_count": 18,
     "metadata": {},
     "output_type": "execute_result"
    }
   ],
   "source": [
    "scores = []\n",
    "best_estimators = {}\n",
    "import pandas as pd\n",
    "for algo, mp in model_params.items():\n",
    "    pipe = make_pipeline(StandardScaler(), mp['model'])\n",
    "    clf = GridSearchCV(pipe, mp['params'], cv=5, return_train_score=False)\n",
    "    clf.fit(X_train, y_train)\n",
    "    scores.append({\n",
    "        'model': algo,\n",
    "        'best_score': clf.best_score_,\n",
    "        'best_params': clf.best_params_\n",
    "    })\n",
    "    best_estimators[algo] = clf.best_estimator_\n",
    "df = pd.DataFrame(scores,columns=['model','best_score','best_params'])\n",
    "df\n"
   ]
  },
  {
   "cell_type": "code",
   "execution_count": 20,
   "id": "8a3137ec-ca7a-4faf-96cb-d3d64a662529",
   "metadata": {},
   "outputs": [
    {
     "data": {
      "text/plain": [
       "0.723404255319149"
      ]
     },
     "execution_count": 20,
     "metadata": {},
     "output_type": "execute_result"
    }
   ],
   "source": [
    "best_estimators[\"svm\"].score(X_test,y_test)"
   ]
  },
  {
   "cell_type": "code",
   "execution_count": 21,
   "id": "3eb3bd82-1cb3-473b-a293-f3e156a2e82f",
   "metadata": {},
   "outputs": [
    {
     "data": {
      "text/plain": [
       "0.6170212765957447"
      ]
     },
     "execution_count": 21,
     "metadata": {},
     "output_type": "execute_result"
    }
   ],
   "source": [
    "best_estimators[\"random_forest\"].score(X_test,y_test)\n"
   ]
  },
  {
   "cell_type": "code",
   "execution_count": 25,
   "id": "d339c5a2-0fc5-4d5d-9289-a2614be608d0",
   "metadata": {},
   "outputs": [
    {
     "data": {
      "text/plain": [
       "0.8936170212765957"
      ]
     },
     "execution_count": 25,
     "metadata": {},
     "output_type": "execute_result"
    }
   ],
   "source": [
    "best_estimators[\"logistic_regression\"].score(X_test,y_test)"
   ]
  },
  {
   "cell_type": "code",
   "execution_count": 26,
   "id": "14135864-3f1c-4313-9925-931c10d88b0b",
   "metadata": {},
   "outputs": [],
   "source": [
    "best_clf = best_estimators[\"logistic_regression\"]"
   ]
  },
  {
   "cell_type": "code",
   "execution_count": 27,
   "id": "faf41d9d-4290-42d5-abab-191f95d78b3f",
   "metadata": {},
   "outputs": [
    {
     "data": {
      "text/plain": [
       "array([[ 7,  0,  2,  0,  1],\n",
       "       [ 0,  6,  1,  0,  1],\n",
       "       [ 0,  0,  6,  0,  0],\n",
       "       [ 0,  0,  0, 11,  0],\n",
       "       [ 0,  0,  0,  0, 12]])"
      ]
     },
     "execution_count": 27,
     "metadata": {},
     "output_type": "execute_result"
    }
   ],
   "source": [
    "from sklearn.metrics import confusion_matrix\n",
    "cm = confusion_matrix(y_test, best_clf.predict(X_test))\n",
    "cm\n"
   ]
  },
  {
   "cell_type": "code",
   "execution_count": 28,
   "id": "86c62f7b-c7b0-4d27-8bd8-2f1e516b43a8",
   "metadata": {},
   "outputs": [
    {
     "name": "stdout",
     "output_type": "stream",
     "text": [
      "Requirement already satisfied: joblib in c:\\users\\andro\\anaconda3\\lib\\site-packages (1.4.2)\n"
     ]
    },
    {
     "data": {
      "text/plain": [
       "['saved_model.pkl']"
      ]
     },
     "execution_count": 28,
     "metadata": {},
     "output_type": "execute_result"
    }
   ],
   "source": [
    "!pip install joblib\n",
    "import joblib\n",
    "\n",
    "# Save the model as a pickle file\n",
    "joblib.dump(best_clf, 'saved_model.pkl')\n"
   ]
  },
  {
   "cell_type": "code",
   "execution_count": 29,
   "id": "52da7158-35c1-4a01-9750-51db0503e275",
   "metadata": {},
   "outputs": [],
   "source": [
    "import json\n",
    "\n",
    "with open(\"class_dictionary.json\", \"w\") as f:\n",
    "    f.write(json.dumps(class_dict))\n"
   ]
  },
  {
   "cell_type": "code",
   "execution_count": null,
   "id": "48f87537-58e0-4d70-af8f-7193f146dd96",
   "metadata": {},
   "outputs": [],
   "source": []
  }
 ],
 "metadata": {
  "kernelspec": {
   "display_name": "Python [conda env:base] *",
   "language": "python",
   "name": "conda-base-py"
  },
  "language_info": {
   "codemirror_mode": {
    "name": "ipython",
    "version": 3
   },
   "file_extension": ".py",
   "mimetype": "text/x-python",
   "name": "python",
   "nbconvert_exporter": "python",
   "pygments_lexer": "ipython3",
   "version": "3.13.5"
  }
 },
 "nbformat": 4,
 "nbformat_minor": 5
}
